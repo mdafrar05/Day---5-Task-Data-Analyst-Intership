# EDA Task 5: Titanic Dataset

# Import Libraries
import pandas as pd
import matplotlib.pyplot as plt
import seaborn as sns

# Load Dataset
df = pd.read_csv('train.csv')  # Load Titanic dataset

# Basic Information
print("\nFirst five rows:")
print(df.head())

print("\nDataset Info:")
print(df.info())

print("\nStatistical Summary:")
print(df.describe())

# Value counts for categorical variables
print("\nValue Counts (for categorical columns):")
for col in df.select_dtypes(include=['object']):
    print(f"\nColumn: {col}")
    print(df[col].value_counts())

# Visual Explorations

# Pairplot
print("\nGenerating Pairplot...")
sns.pairplot(df)
plt.show()

# Correlation Heatmap
print("\nGenerating Heatmap...")
plt.figure(figsize=(10,8))
sns.heatmap(df.corr(), annot=True, cmap='coolwarm')
plt.title('Correlation Heatmap')
plt.show()

# Histograms
print("\nGenerating Histograms...")
df.hist(figsize=(12,10))
plt.tight_layout()
plt.show()

# Boxplots
print("\nGenerating Boxplots...")
for col in df.select_dtypes(include=['float64', 'int64']).columns:
    plt.figure(figsize=(8,4))
    sns.boxplot(x=df[col])
    plt.title(f'Boxplot of {col}')
    plt.show()

# Scatterplots (example)
print("\nGenerating Scatterplots...")
df_numeric = df.select_dtypes(include=['float64', 'int64']).columns
if len(df_numeric) >= 2:
    sns.scatterplot(x=df_numeric[0], y=df_numeric[1], data=df)
    plt.title(f'Scatterplot between {df_numeric[0]} and {df_numeric[1]}')
    plt.show()

# Summary of Findings
print("\nSummary of Findings:")
print("""
1. Survival Trends
   - Overall survival rate: ~38.4%
   - Higher survival rates for 'females' and '1st class passengers'
   - Children under 10 had better survival chances.

2. Impact of Fare & Class
   - Passengers who paid higher fares had 'higher survival probability'.
   - '3rd class passengers had the lowest survival rate'.

3. Family Influence
   - Passengers with 'large families (>4 members)'' tended to have 'lower survival rates.
   - Solo travelers had 'mixed survival outcomes' depending on class.

4. Outliers & Missing Data
   - 'Age, Cabin, and Embarked columns' have missing values requiring imputation.
   - 'Fare and Age' show significant outliers impacting analysis.

5. Business Implications
   - Insights can aid 'evacuation strategies', improve 'future safety measures', and guide data-driven 'maritime regulations'.
""")